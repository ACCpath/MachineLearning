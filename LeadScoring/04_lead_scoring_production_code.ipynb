{
 "cells": [
  {
   "cell_type": "markdown",
   "id": "89d8096c",
   "metadata": {},
   "source": [
    "<div style=\"text-align:right\">Update date: Feb 21, 2024</div><br>\n",
    "\n",
    "# Lead Scoring production code<br>\n",
    "## Objetive<br>\n",
    "Generate training and execution pipeline of the Lead Scoring model, with the purpose of making preparations for its move to the production phase."
   ]
  },
  {
   "cell_type": "markdown",
   "id": "797ae63f",
   "metadata": {},
   "source": [
    "## Imports"
   ]
  },
  {
   "cell_type": "code",
   "execution_count": 3,
   "id": "ffe7be80",
   "metadata": {},
   "outputs": [],
   "source": [
    "import os\n",
    "import numpy as np\n",
    "import pandas as pd\n",
    "import cloudpickle\n",
    "\n",
    "%config IPCompleter.greedy=True\n",
    "\n",
    "from sklearn.preprocessing import OneHotEncoder\n",
    "from sklearn.preprocessing import MinMaxScaler\n",
    "from sklearn.model_selection import train_test_split\n",
    "from sklearn.linear_model import LogisticRegression\n",
    "##############################################\n",
    "from sklearn.pipeline import Pipeline\n",
    "from sklearn.preprocessing import FunctionTransformer\n",
    "from sklearn.compose import make_column_transformer\n",
    "from sklearn.pipeline import make_pipeline"
   ]
  },
  {
   "cell_type": "markdown",
   "id": "5e12241c",
   "metadata": {},
   "source": [
    "## Load data"
   ]
  },
  {
   "cell_type": "markdown",
   "id": "89fe9a43",
   "metadata": {},
   "source": [
    "### Original data file name"
   ]
  },
  {
   "cell_type": "code",
   "execution_count": 1,
   "id": "25b345d7",
   "metadata": {},
   "outputs": [],
   "source": [
    "data_file_name = 'Leads.csv'"
   ]
  },
  {
   "cell_type": "code",
   "execution_count": 4,
   "id": "480494ff",
   "metadata": {},
   "outputs": [],
   "source": [
    "df = pd.read_csv('data/' + data_file_name, sep=\";\", index_col='id')"
   ]
  },
  {
   "cell_type": "markdown",
   "id": "454738c9",
   "metadata": {},
   "source": [
    "### Select final variables"
   ]
  },
  {
   "cell_type": "code",
   "execution_count": 7,
   "id": "26066884",
   "metadata": {},
   "outputs": [
    {
     "data": {
      "text/plain": [
       "['ambito_Marketing Management',\n",
       " 'ambito_OTROS',\n",
       " 'ambito_Select',\n",
       " 'descarga_lm_No',\n",
       " 'fuente_Organic Search',\n",
       " 'ocupacion_Unemployed',\n",
       " 'ocupacion_Working Professional',\n",
       " 'origen_Lead Add Form',\n",
       " 'score_actividad_mms',\n",
       " 'score_perfil_mms',\n",
       " 'tiempo_en_site_total_mms',\n",
       " 'ult_actividad_Chat Conversation',\n",
       " 'ult_actividad_Converted to Lead',\n",
       " 'ult_actividad_Page Visited on Website',\n",
       " 'ult_actividad_SMS Sent',\n",
       " 'visitas_total_mms']"
      ]
     },
     "execution_count": 7,
     "metadata": {},
     "output_type": "execute_result"
    }
   ],
   "source": [
    "pd.read_pickle('data/final_vars.pickle').sort_index().index.to_list()"
   ]
  },
  {
   "cell_type": "code",
   "execution_count": 16,
   "id": "da477021",
   "metadata": {},
   "outputs": [],
   "source": [
    "final_vars = [\n",
    "        'ambito',\n",
    "        'descarga_lm',\n",
    "        'fuente',\n",
    "        'ocupacion',\n",
    "        'origen',\n",
    "        'score_actividad',\n",
    "        'score_perfil',\n",
    "        'tiempo_en_site_total',\n",
    "        'ult_actividad',\n",
    "        'visitas_total'\n",
    "]"
   ]
  },
  {
   "cell_type": "markdown",
   "id": "fe5a706b",
   "metadata": {},
   "source": [
    "## Datasets structure"
   ]
  },
  {
   "cell_type": "markdown",
   "id": "a9cd9497",
   "metadata": {},
   "source": [
    "### Delete records"
   ]
  },
  {
   "cell_type": "code",
   "execution_count": 12,
   "id": "361fd5f0",
   "metadata": {},
   "outputs": [],
   "source": [
    "df.drop_duplicates(inplace=True)"
   ]
  },
  {
   "cell_type": "code",
   "execution_count": 14,
   "id": "b53c6908",
   "metadata": {},
   "outputs": [
    {
     "data": {
      "text/plain": [
       "(6838, 20)"
      ]
     },
     "execution_count": 14,
     "metadata": {},
     "output_type": "execute_result"
    }
   ],
   "source": [
    "condicion = ((df['no_enviar_email'] != 'Yes')\n",
    "             & (df['no_llamar'] != 'Yes')\n",
    "             & (df['ult_actividad'] != 'Email Bounced')\n",
    "            )\n",
    "df = df[condicion]\n",
    "df.shape"
   ]
  },
  {
   "cell_type": "markdown",
   "id": "024faf5e",
   "metadata": {},
   "source": [
    "Select final predictor variables"
   ]
  },
  {
   "cell_type": "code",
   "execution_count": 17,
   "id": "eb115fbf",
   "metadata": {},
   "outputs": [],
   "source": [
    "x = df[final_vars].copy()"
   ]
  },
  {
   "cell_type": "markdown",
   "id": "84fd6267",
   "metadata": {},
   "source": [
    "Specify the target"
   ]
  },
  {
   "cell_type": "code",
   "execution_count": 18,
   "id": "e8cef3f3",
   "metadata": {},
   "outputs": [],
   "source": [
    "target = 'compra'\n",
    "y = df[target].copy()"
   ]
  },
  {
   "cell_type": "markdown",
   "id": "99bb2255",
   "metadata": {},
   "source": [
    "## Generate the pipeline"
   ]
  },
  {
   "cell_type": "markdown",
   "id": "6d6e8fca",
   "metadata": {},
   "source": [
    "### Instantiate data quality"
   ]
  },
  {
   "cell_type": "markdown",
   "id": "06178080",
   "metadata": {},
   "source": [
    "#### Create the function"
   ]
  },
  {
   "cell_type": "code",
   "execution_count": 23,
   "id": "98177b43",
   "metadata": {},
   "outputs": [],
   "source": [
    "# Update values in variables:\n",
    "var_impute_value = [\n",
    "    'origen',\n",
    "    'fuente',\n",
    "    'ult_actividad',\n",
    "    'descarga_lm'\n",
    "]\n",
    "var_impute_mode = ['ocupacion', 'ambito']\n",
    "# Define helper functions\n",
    "def impute_mode(variable):\n",
    "    return variable.fillna(variable.mode()[0])\n",
    "\n",
    "def impute_median(variable):\n",
    "    if pd.api.types.is_integer_dtype(variable):\n",
    "        return variable.fillna(int(variable.median()))\n",
    "    \n",
    "    return variable.fillna(variable.median())\n",
    "\n",
    "def group_rare_categories(variable, criterio=0.05):\n",
    "    frequency = variable.value_counts(normalize=True)\n",
    "    temp = list(frequency.loc[frequency < criterio].index.values)\n",
    "    temp2 = np.where(variable.isin(temp), 'OTROS', variable)\n",
    "    \n",
    "    return temp2\n",
    "\n",
    "def data_quality(df):\n",
    "    temp = df.astype({'visitas_total': 'Int64'})             \n",
    "    temp[var_impute_mode] = temp[var_impute_mode].apply(impute_mode)\n",
    "    temp[var_impute_value] = temp[var_impute_value].fillna('DESCONOCIDO')\n",
    "    var_impute_median = temp.select_dtypes(include='number').columns.to_list()\n",
    "    temp[var_impute_median] = temp[var_impute_median].apply(impute_median)\n",
    "    vars_rare = temp.select_dtypes(exclude='number').columns.to_list()   \n",
    "    for variable in vars_rare:\n",
    "        temp[variable] = group_rare_categories(temp[variable], criterio=0.02)\n",
    "    #Winsorization manual\n",
    "    temp['visitas_total'] = temp['visitas_total'].clip(0, 50)\n",
    "    \n",
    "    return(temp)"
   ]
  },
  {
   "cell_type": "markdown",
   "id": "95bd7490",
   "metadata": {},
   "source": [
    "#### Convert it to transformer"
   ]
  },
  {
   "cell_type": "code",
   "execution_count": 24,
   "id": "6805f964",
   "metadata": {},
   "outputs": [],
   "source": [
    "make_data_quality = FunctionTransformer(data_quality)"
   ]
  },
  {
   "cell_type": "markdown",
   "id": "88e57147",
   "metadata": {},
   "source": [
    "### Instantiate variable transformation"
   ]
  },
  {
   "cell_type": "code",
   "execution_count": 25,
   "id": "ee711664",
   "metadata": {},
   "outputs": [],
   "source": [
    "var_ohe = ['ambito', 'descarga_lm', 'fuente', 'ocupacion', 'origen', 'ult_actividad']\n",
    "ohe = OneHotEncoder(sparse_output=False, handle_unknown='ignore')\n",
    "var_mms = ['score_actividad', 'score_perfil', 'tiempo_en_site_total', 'visitas_total']\n",
    "mms = MinMaxScaler()"
   ]
  },
  {
   "cell_type": "markdown",
   "id": "eaf3f141",
   "metadata": {},
   "source": [
    "### Generate the preprocessing pipeline"
   ]
  },
  {
   "cell_type": "markdown",
   "id": "8d7b7821",
   "metadata": {},
   "source": [
    "#### Generate the column transformer"
   ]
  },
  {
   "cell_type": "code",
   "execution_count": 26,
   "id": "e577b34d",
   "metadata": {},
   "outputs": [],
   "source": [
    "ct = make_column_transformer(\n",
    "    (ohe, var_ohe),\n",
    "    (mms, var_mms),\n",
    "    remainder='drop'\n",
    ")"
   ]
  },
  {
   "cell_type": "markdown",
   "id": "5de30e37",
   "metadata": {},
   "source": [
    "#### Generate the preprocessing pipeline¶"
   ]
  },
  {
   "cell_type": "code",
   "execution_count": 27,
   "id": "54e1300d",
   "metadata": {},
   "outputs": [],
   "source": [
    "pipe_prepro = make_pipeline(make_data_quality, ct)"
   ]
  },
  {
   "cell_type": "markdown",
   "id": "d4b08601",
   "metadata": {},
   "source": [
    "### Instantiate the model"
   ]
  },
  {
   "cell_type": "markdown",
   "id": "b64c9e60",
   "metadata": {},
   "source": [
    "#### Instantiate the algorithm"
   ]
  },
  {
   "cell_type": "code",
   "execution_count": 28,
   "id": "8b2e752d",
   "metadata": {},
   "outputs": [],
   "source": [
    "model = LogisticRegression(\n",
    "    n_jobs=-1,\n",
    "    solver='saga',\n",
    "    penalty='l1',\n",
    "    C=1,\n",
    ")"
   ]
  },
  {
   "cell_type": "markdown",
   "id": "80f8e2f3",
   "metadata": {},
   "source": [
    "#### Generate the final training pipeline"
   ]
  },
  {
   "cell_type": "code",
   "execution_count": 32,
   "id": "0efb038b",
   "metadata": {},
   "outputs": [],
   "source": [
    "pipe_train = make_pipeline(pipe_prepro, model)"
   ]
  },
  {
   "cell_type": "markdown",
   "id": "cb0700d8",
   "metadata": {},
   "source": [
    "#### Save the final training pipe"
   ]
  },
  {
   "cell_type": "code",
   "execution_count": 34,
   "id": "71715e9c",
   "metadata": {},
   "outputs": [],
   "source": [
    "with open('models/pipe_train.pickle', mode='wb') as file:\n",
    "    cloudpickle.dump(pipe_train, file)"
   ]
  },
  {
   "cell_type": "markdown",
   "id": "2c7e5ed1",
   "metadata": {},
   "source": [
    "#### Train the final execution pipeline"
   ]
  },
  {
   "cell_type": "code",
   "execution_count": 35,
   "id": "13ca2db6",
   "metadata": {},
   "outputs": [],
   "source": [
    "pipe_execution= pipe_train.fit(x, y)"
   ]
  },
  {
   "cell_type": "code",
   "execution_count": 36,
   "id": "6fd4d380",
   "metadata": {},
   "outputs": [
    {
     "data": {
      "text/html": [
       "<style>#sk-container-id-1 {color: black;background-color: white;}#sk-container-id-1 pre{padding: 0;}#sk-container-id-1 div.sk-toggleable {background-color: white;}#sk-container-id-1 label.sk-toggleable__label {cursor: pointer;display: block;width: 100%;margin-bottom: 0;padding: 0.3em;box-sizing: border-box;text-align: center;}#sk-container-id-1 label.sk-toggleable__label-arrow:before {content: \"▸\";float: left;margin-right: 0.25em;color: #696969;}#sk-container-id-1 label.sk-toggleable__label-arrow:hover:before {color: black;}#sk-container-id-1 div.sk-estimator:hover label.sk-toggleable__label-arrow:before {color: black;}#sk-container-id-1 div.sk-toggleable__content {max-height: 0;max-width: 0;overflow: hidden;text-align: left;background-color: #f0f8ff;}#sk-container-id-1 div.sk-toggleable__content pre {margin: 0.2em;color: black;border-radius: 0.25em;background-color: #f0f8ff;}#sk-container-id-1 input.sk-toggleable__control:checked~div.sk-toggleable__content {max-height: 200px;max-width: 100%;overflow: auto;}#sk-container-id-1 input.sk-toggleable__control:checked~label.sk-toggleable__label-arrow:before {content: \"▾\";}#sk-container-id-1 div.sk-estimator input.sk-toggleable__control:checked~label.sk-toggleable__label {background-color: #d4ebff;}#sk-container-id-1 div.sk-label input.sk-toggleable__control:checked~label.sk-toggleable__label {background-color: #d4ebff;}#sk-container-id-1 input.sk-hidden--visually {border: 0;clip: rect(1px 1px 1px 1px);clip: rect(1px, 1px, 1px, 1px);height: 1px;margin: -1px;overflow: hidden;padding: 0;position: absolute;width: 1px;}#sk-container-id-1 div.sk-estimator {font-family: monospace;background-color: #f0f8ff;border: 1px dotted black;border-radius: 0.25em;box-sizing: border-box;margin-bottom: 0.5em;}#sk-container-id-1 div.sk-estimator:hover {background-color: #d4ebff;}#sk-container-id-1 div.sk-parallel-item::after {content: \"\";width: 100%;border-bottom: 1px solid gray;flex-grow: 1;}#sk-container-id-1 div.sk-label:hover label.sk-toggleable__label {background-color: #d4ebff;}#sk-container-id-1 div.sk-serial::before {content: \"\";position: absolute;border-left: 1px solid gray;box-sizing: border-box;top: 0;bottom: 0;left: 50%;z-index: 0;}#sk-container-id-1 div.sk-serial {display: flex;flex-direction: column;align-items: center;background-color: white;padding-right: 0.2em;padding-left: 0.2em;position: relative;}#sk-container-id-1 div.sk-item {position: relative;z-index: 1;}#sk-container-id-1 div.sk-parallel {display: flex;align-items: stretch;justify-content: center;background-color: white;position: relative;}#sk-container-id-1 div.sk-item::before, #sk-container-id-1 div.sk-parallel-item::before {content: \"\";position: absolute;border-left: 1px solid gray;box-sizing: border-box;top: 0;bottom: 0;left: 50%;z-index: -1;}#sk-container-id-1 div.sk-parallel-item {display: flex;flex-direction: column;z-index: 1;position: relative;background-color: white;}#sk-container-id-1 div.sk-parallel-item:first-child::after {align-self: flex-end;width: 50%;}#sk-container-id-1 div.sk-parallel-item:last-child::after {align-self: flex-start;width: 50%;}#sk-container-id-1 div.sk-parallel-item:only-child::after {width: 0;}#sk-container-id-1 div.sk-dashed-wrapped {border: 1px dashed gray;margin: 0 0.4em 0.5em 0.4em;box-sizing: border-box;padding-bottom: 0.4em;background-color: white;}#sk-container-id-1 div.sk-label label {font-family: monospace;font-weight: bold;display: inline-block;line-height: 1.2em;}#sk-container-id-1 div.sk-label-container {text-align: center;}#sk-container-id-1 div.sk-container {/* jupyter's `normalize.less` sets `[hidden] { display: none; }` but bootstrap.min.css set `[hidden] { display: none !important; }` so we also need the `!important` here to be able to override the default hidden behavior on the sphinx rendered scikit-learn.org. See: https://github.com/scikit-learn/scikit-learn/issues/21755 */display: inline-block !important;position: relative;}#sk-container-id-1 div.sk-text-repr-fallback {display: none;}</style><div id=\"sk-container-id-1\" class=\"sk-top-container\"><div class=\"sk-text-repr-fallback\"><pre>Pipeline(steps=[(&#x27;pipeline&#x27;,\n",
       "                 Pipeline(steps=[(&#x27;functiontransformer&#x27;,\n",
       "                                  FunctionTransformer(func=&lt;function data_quality at 0x7fc2b3f445e0&gt;)),\n",
       "                                 (&#x27;columntransformer&#x27;,\n",
       "                                  ColumnTransformer(transformers=[(&#x27;onehotencoder&#x27;,\n",
       "                                                                   OneHotEncoder(handle_unknown=&#x27;ignore&#x27;,\n",
       "                                                                                 sparse_output=False),\n",
       "                                                                   [&#x27;ambito&#x27;,\n",
       "                                                                    &#x27;descarga_lm&#x27;,\n",
       "                                                                    &#x27;fuente&#x27;,\n",
       "                                                                    &#x27;ocupacion&#x27;,\n",
       "                                                                    &#x27;origen&#x27;,\n",
       "                                                                    &#x27;ult_actividad&#x27;]),\n",
       "                                                                  (&#x27;minmaxscaler&#x27;,\n",
       "                                                                   MinMaxScaler(),\n",
       "                                                                   [&#x27;score_actividad&#x27;,\n",
       "                                                                    &#x27;score_perfil&#x27;,\n",
       "                                                                    &#x27;tiempo_en_site_total&#x27;,\n",
       "                                                                    &#x27;visitas_total&#x27;])]))])),\n",
       "                (&#x27;logisticregression&#x27;,\n",
       "                 LogisticRegression(C=1, n_jobs=-1, penalty=&#x27;l1&#x27;,\n",
       "                                    solver=&#x27;saga&#x27;))])</pre><b>In a Jupyter environment, please rerun this cell to show the HTML representation or trust the notebook. <br />On GitHub, the HTML representation is unable to render, please try loading this page with nbviewer.org.</b></div><div class=\"sk-container\" hidden><div class=\"sk-item sk-dashed-wrapped\"><div class=\"sk-label-container\"><div class=\"sk-label sk-toggleable\"><input class=\"sk-toggleable__control sk-hidden--visually\" id=\"sk-estimator-id-1\" type=\"checkbox\" ><label for=\"sk-estimator-id-1\" class=\"sk-toggleable__label sk-toggleable__label-arrow\">Pipeline</label><div class=\"sk-toggleable__content\"><pre>Pipeline(steps=[(&#x27;pipeline&#x27;,\n",
       "                 Pipeline(steps=[(&#x27;functiontransformer&#x27;,\n",
       "                                  FunctionTransformer(func=&lt;function data_quality at 0x7fc2b3f445e0&gt;)),\n",
       "                                 (&#x27;columntransformer&#x27;,\n",
       "                                  ColumnTransformer(transformers=[(&#x27;onehotencoder&#x27;,\n",
       "                                                                   OneHotEncoder(handle_unknown=&#x27;ignore&#x27;,\n",
       "                                                                                 sparse_output=False),\n",
       "                                                                   [&#x27;ambito&#x27;,\n",
       "                                                                    &#x27;descarga_lm&#x27;,\n",
       "                                                                    &#x27;fuente&#x27;,\n",
       "                                                                    &#x27;ocupacion&#x27;,\n",
       "                                                                    &#x27;origen&#x27;,\n",
       "                                                                    &#x27;ult_actividad&#x27;]),\n",
       "                                                                  (&#x27;minmaxscaler&#x27;,\n",
       "                                                                   MinMaxScaler(),\n",
       "                                                                   [&#x27;score_actividad&#x27;,\n",
       "                                                                    &#x27;score_perfil&#x27;,\n",
       "                                                                    &#x27;tiempo_en_site_total&#x27;,\n",
       "                                                                    &#x27;visitas_total&#x27;])]))])),\n",
       "                (&#x27;logisticregression&#x27;,\n",
       "                 LogisticRegression(C=1, n_jobs=-1, penalty=&#x27;l1&#x27;,\n",
       "                                    solver=&#x27;saga&#x27;))])</pre></div></div></div><div class=\"sk-serial\"><div class=\"sk-item\"><div class=\"sk-label-container\"><div class=\"sk-label sk-toggleable\"><input class=\"sk-toggleable__control sk-hidden--visually\" id=\"sk-estimator-id-2\" type=\"checkbox\" ><label for=\"sk-estimator-id-2\" class=\"sk-toggleable__label sk-toggleable__label-arrow\">pipeline: Pipeline</label><div class=\"sk-toggleable__content\"><pre>Pipeline(steps=[(&#x27;functiontransformer&#x27;,\n",
       "                 FunctionTransformer(func=&lt;function data_quality at 0x7fc2b3f445e0&gt;)),\n",
       "                (&#x27;columntransformer&#x27;,\n",
       "                 ColumnTransformer(transformers=[(&#x27;onehotencoder&#x27;,\n",
       "                                                  OneHotEncoder(handle_unknown=&#x27;ignore&#x27;,\n",
       "                                                                sparse_output=False),\n",
       "                                                  [&#x27;ambito&#x27;, &#x27;descarga_lm&#x27;,\n",
       "                                                   &#x27;fuente&#x27;, &#x27;ocupacion&#x27;,\n",
       "                                                   &#x27;origen&#x27;, &#x27;ult_actividad&#x27;]),\n",
       "                                                 (&#x27;minmaxscaler&#x27;,\n",
       "                                                  MinMaxScaler(),\n",
       "                                                  [&#x27;score_actividad&#x27;,\n",
       "                                                   &#x27;score_perfil&#x27;,\n",
       "                                                   &#x27;tiempo_en_site_total&#x27;,\n",
       "                                                   &#x27;visitas_total&#x27;])]))])</pre></div></div></div><div class=\"sk-serial\"><div class=\"sk-item\"><div class=\"sk-estimator sk-toggleable\"><input class=\"sk-toggleable__control sk-hidden--visually\" id=\"sk-estimator-id-3\" type=\"checkbox\" ><label for=\"sk-estimator-id-3\" class=\"sk-toggleable__label sk-toggleable__label-arrow\">FunctionTransformer</label><div class=\"sk-toggleable__content\"><pre>FunctionTransformer(func=&lt;function data_quality at 0x7fc2b3f445e0&gt;)</pre></div></div></div><div class=\"sk-item sk-dashed-wrapped\"><div class=\"sk-label-container\"><div class=\"sk-label sk-toggleable\"><input class=\"sk-toggleable__control sk-hidden--visually\" id=\"sk-estimator-id-4\" type=\"checkbox\" ><label for=\"sk-estimator-id-4\" class=\"sk-toggleable__label sk-toggleable__label-arrow\">columntransformer: ColumnTransformer</label><div class=\"sk-toggleable__content\"><pre>ColumnTransformer(transformers=[(&#x27;onehotencoder&#x27;,\n",
       "                                 OneHotEncoder(handle_unknown=&#x27;ignore&#x27;,\n",
       "                                               sparse_output=False),\n",
       "                                 [&#x27;ambito&#x27;, &#x27;descarga_lm&#x27;, &#x27;fuente&#x27;,\n",
       "                                  &#x27;ocupacion&#x27;, &#x27;origen&#x27;, &#x27;ult_actividad&#x27;]),\n",
       "                                (&#x27;minmaxscaler&#x27;, MinMaxScaler(),\n",
       "                                 [&#x27;score_actividad&#x27;, &#x27;score_perfil&#x27;,\n",
       "                                  &#x27;tiempo_en_site_total&#x27;, &#x27;visitas_total&#x27;])])</pre></div></div></div><div class=\"sk-parallel\"><div class=\"sk-parallel-item\"><div class=\"sk-item\"><div class=\"sk-label-container\"><div class=\"sk-label sk-toggleable\"><input class=\"sk-toggleable__control sk-hidden--visually\" id=\"sk-estimator-id-5\" type=\"checkbox\" ><label for=\"sk-estimator-id-5\" class=\"sk-toggleable__label sk-toggleable__label-arrow\">onehotencoder</label><div class=\"sk-toggleable__content\"><pre>[&#x27;ambito&#x27;, &#x27;descarga_lm&#x27;, &#x27;fuente&#x27;, &#x27;ocupacion&#x27;, &#x27;origen&#x27;, &#x27;ult_actividad&#x27;]</pre></div></div></div><div class=\"sk-serial\"><div class=\"sk-item\"><div class=\"sk-estimator sk-toggleable\"><input class=\"sk-toggleable__control sk-hidden--visually\" id=\"sk-estimator-id-6\" type=\"checkbox\" ><label for=\"sk-estimator-id-6\" class=\"sk-toggleable__label sk-toggleable__label-arrow\">OneHotEncoder</label><div class=\"sk-toggleable__content\"><pre>OneHotEncoder(handle_unknown=&#x27;ignore&#x27;, sparse_output=False)</pre></div></div></div></div></div></div><div class=\"sk-parallel-item\"><div class=\"sk-item\"><div class=\"sk-label-container\"><div class=\"sk-label sk-toggleable\"><input class=\"sk-toggleable__control sk-hidden--visually\" id=\"sk-estimator-id-7\" type=\"checkbox\" ><label for=\"sk-estimator-id-7\" class=\"sk-toggleable__label sk-toggleable__label-arrow\">minmaxscaler</label><div class=\"sk-toggleable__content\"><pre>[&#x27;score_actividad&#x27;, &#x27;score_perfil&#x27;, &#x27;tiempo_en_site_total&#x27;, &#x27;visitas_total&#x27;]</pre></div></div></div><div class=\"sk-serial\"><div class=\"sk-item\"><div class=\"sk-estimator sk-toggleable\"><input class=\"sk-toggleable__control sk-hidden--visually\" id=\"sk-estimator-id-8\" type=\"checkbox\" ><label for=\"sk-estimator-id-8\" class=\"sk-toggleable__label sk-toggleable__label-arrow\">MinMaxScaler</label><div class=\"sk-toggleable__content\"><pre>MinMaxScaler()</pre></div></div></div></div></div></div></div></div></div></div><div class=\"sk-item\"><div class=\"sk-estimator sk-toggleable\"><input class=\"sk-toggleable__control sk-hidden--visually\" id=\"sk-estimator-id-9\" type=\"checkbox\" ><label for=\"sk-estimator-id-9\" class=\"sk-toggleable__label sk-toggleable__label-arrow\">LogisticRegression</label><div class=\"sk-toggleable__content\"><pre>LogisticRegression(C=1, n_jobs=-1, penalty=&#x27;l1&#x27;, solver=&#x27;saga&#x27;)</pre></div></div></div></div></div></div></div>"
      ],
      "text/plain": [
       "Pipeline(steps=[('pipeline',\n",
       "                 Pipeline(steps=[('functiontransformer',\n",
       "                                  FunctionTransformer(func=<function data_quality at 0x7fc2b3f445e0>)),\n",
       "                                 ('columntransformer',\n",
       "                                  ColumnTransformer(transformers=[('onehotencoder',\n",
       "                                                                   OneHotEncoder(handle_unknown='ignore',\n",
       "                                                                                 sparse_output=False),\n",
       "                                                                   ['ambito',\n",
       "                                                                    'descarga_lm',\n",
       "                                                                    'fuente',\n",
       "                                                                    'ocupacion',\n",
       "                                                                    'origen',\n",
       "                                                                    'ult_actividad']),\n",
       "                                                                  ('minmaxscaler',\n",
       "                                                                   MinMaxScaler(),\n",
       "                                                                   ['score_actividad',\n",
       "                                                                    'score_perfil',\n",
       "                                                                    'tiempo_en_site_total',\n",
       "                                                                    'visitas_total'])]))])),\n",
       "                ('logisticregression',\n",
       "                 LogisticRegression(C=1, n_jobs=-1, penalty='l1',\n",
       "                                    solver='saga'))])"
      ]
     },
     "execution_count": 36,
     "metadata": {},
     "output_type": "execute_result"
    }
   ],
   "source": [
    "pipe_execution"
   ]
  },
  {
   "cell_type": "markdown",
   "id": "52e506db",
   "metadata": {},
   "source": [
    "## Save the pipeline"
   ]
  },
  {
   "cell_type": "markdown",
   "id": "afba8bc8",
   "metadata": {},
   "source": [
    "### Save the final pipe of execution"
   ]
  },
  {
   "cell_type": "code",
   "execution_count": 37,
   "id": "1dda8f25",
   "metadata": {},
   "outputs": [],
   "source": [
    "with open('models/pipe_execution.pickle', mode='wb') as file:\n",
    "    cloudpickle.dump(pipe_execution, file)"
   ]
  }
 ],
 "metadata": {
  "kernelspec": {
   "display_name": "Python 3 (ipykernel)",
   "language": "python",
   "name": "python3"
  },
  "language_info": {
   "codemirror_mode": {
    "name": "ipython",
    "version": 3
   },
   "file_extension": ".py",
   "mimetype": "text/x-python",
   "name": "python",
   "nbconvert_exporter": "python",
   "pygments_lexer": "ipython3",
   "version": "3.11.7"
  },
  "toc": {
   "base_numbering": 1,
   "nav_menu": {},
   "number_sections": true,
   "sideBar": true,
   "skip_h1_title": false,
   "title_cell": "Table of Contents",
   "title_sidebar": "Contents",
   "toc_cell": false,
   "toc_position": {
    "height": "calc(100% - 180px)",
    "left": "10px",
    "top": "150px",
    "width": "383.367px"
   },
   "toc_section_display": true,
   "toc_window_display": false
  },
  "varInspector": {
   "cols": {
    "lenName": 16,
    "lenType": 16,
    "lenVar": 40
   },
   "kernels_config": {
    "python": {
     "delete_cmd_postfix": "",
     "delete_cmd_prefix": "del ",
     "library": "var_list.py",
     "varRefreshCmd": "print(var_dic_list())"
    },
    "r": {
     "delete_cmd_postfix": ") ",
     "delete_cmd_prefix": "rm(",
     "library": "var_list.r",
     "varRefreshCmd": "cat(var_dic_list()) "
    }
   },
   "types_to_exclude": [
    "module",
    "function",
    "builtin_function_or_method",
    "instance",
    "_Feature"
   ],
   "window_display": false
  }
 },
 "nbformat": 4,
 "nbformat_minor": 5
}
