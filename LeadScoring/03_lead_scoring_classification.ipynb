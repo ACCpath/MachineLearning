{
 "cells": [
  {
   "cell_type": "markdown",
   "id": "d31dea65",
   "metadata": {},
   "source": [
    "<div style=\"text-align:right\">Update date: Feb 20, 2024</div><br>\n",
    "\n",
    "# Modeling for classification<br>\n",
    "## Objetive<br>\n",
    "Select the best hyperparameters for the Logistic Regression classification model that allows classifying potential customers (leads) based on their probability of becoming real customers.<br><br>\n",
    "## The general outline of this notebook is as follows:<br><br>\n",
    "\n",
    "1. Imports and adjustments\n",
    "2. Load data\n",
    "3. Modeling\n",
    "4. Evaluate model\n",
    "7. Model reporting\n",
    "8. Conclusions and next step<br><br>\n",
    "\n",
    "\n",
    "\n",
    " Main work tools<br>\n",
    "\n",
    "|Package|                           Version|\n",
    "|:---------------------------------|--------:|\n",
    "|matplotlib                        | 3.8.0|\n",
    "|numpy                             | 1.26.3|\n",
    "|notebook                          |6.5.4|\n",
    "|pandas                            | 2.1.4|\n",
    "|python                            |3.11.7|\n",
    "|seaborn                           | 0.13.0|\n",
    "|sklearn                           |1.2.2|\n",
    "|skplt                             |0.3.7|"
   ]
  },
  {
   "cell_type": "markdown",
   "id": "swiss-fault",
   "metadata": {},
   "source": [
    "## Imports and adjustments"
   ]
  },
  {
   "cell_type": "code",
   "execution_count": 1,
   "id": "adjacent-toddler",
   "metadata": {},
   "outputs": [],
   "source": [
    "import os\n",
    "import numpy as np\n",
    "import pandas as pd\n",
    "import matplotlib.pyplot as plt\n",
    "%matplotlib inline\n",
    "\n",
    "from sklearn.model_selection import train_test_split\n",
    "from sklearn.linear_model import LogisticRegression\n",
    "from sklearn.pipeline import Pipeline\n",
    "from sklearn.model_selection import GridSearchCV\n",
    "from sklearn.metrics import roc_auc_score\n",
    "import scikitplot as skplt\n",
    "\n",
    "#Turn off scientific notation\n",
    "pd.options.display.float_format = '{:.2f}'.format\n",
    "%config IPCompleter.greedy=True\n",
    "\n",
    "#Disable warnings\n",
    "import warnings\n",
    "warnings.filterwarnings(\"ignore\")"
   ]
  },
  {
   "cell_type": "markdown",
   "id": "graduate-compensation",
   "metadata": {},
   "source": [
    "## Load data"
   ]
  },
  {
   "cell_type": "markdown",
   "id": "c3363765",
   "metadata": {},
   "source": [
    "Names of the data files"
   ]
  },
  {
   "cell_type": "code",
   "execution_count": 17,
   "id": "a9e2e04a",
   "metadata": {},
   "outputs": [],
   "source": [
    "filename_x = 'x_selected_vars.pickle'\n",
    "filename_y = 'y_selected_var.pickle'"
   ]
  },
  {
   "cell_type": "markdown",
   "id": "b9825018",
   "metadata": {},
   "source": [
    "Load predictors variables and the target"
   ]
  },
  {
   "cell_type": "code",
   "execution_count": 18,
   "id": "cab6ebcd",
   "metadata": {},
   "outputs": [],
   "source": [
    "x = pd.read_pickle('data/' + filename_x)\n",
    "y = pd.read_pickle('data/' + filename_y)"
   ]
  },
  {
   "cell_type": "markdown",
   "id": "9790d322",
   "metadata": {},
   "source": [
    "## Modeling"
   ]
  },
  {
   "cell_type": "markdown",
   "id": "930f685f",
   "metadata": {},
   "source": [
    "### Reserve the validation dataset"
   ]
  },
  {
   "cell_type": "code",
   "execution_count": 19,
   "id": "84b6fd41",
   "metadata": {},
   "outputs": [],
   "source": [
    "train_x, val_x, train_y, val_y = train_test_split(x, y, test_size=0.3)"
   ]
  },
  {
   "cell_type": "markdown",
   "id": "53bd4ad6",
   "metadata": {},
   "source": [
    "### Generate the pipe and the dictionary of algorithms, parameters and values to be tested"
   ]
  },
  {
   "cell_type": "code",
   "execution_count": 20,
   "id": "3efa5c98",
   "metadata": {},
   "outputs": [],
   "source": [
    "pipe = Pipeline([('algorithm', RandomForestClassifier())])\n",
    "\n",
    "grid = [{'algorithm': [LogisticRegression()],\n",
    "         'algorithm__n_jobs': [-1],\n",
    "         'algorithm__solver': ['saga'],\n",
    "         'algorithm__penalty': ['elasticnet', 'l1', 'l2', 'None'],\n",
    "         'algorithm__C': [0, 0.25, 0.5, 0.75, 1]},\n",
    "       ]"
   ]
  },
  {
   "cell_type": "markdown",
   "id": "1f836ca9",
   "metadata": {},
   "source": [
    "### Optimize hyper parameters"
   ]
  },
  {
   "cell_type": "code",
   "execution_count": 21,
   "id": "2af49e32",
   "metadata": {},
   "outputs": [
    {
     "data": {
      "text/html": [
       "<div>\n",
       "<style scoped>\n",
       "    .dataframe tbody tr th:only-of-type {\n",
       "        vertical-align: middle;\n",
       "    }\n",
       "\n",
       "    .dataframe tbody tr th {\n",
       "        vertical-align: top;\n",
       "    }\n",
       "\n",
       "    .dataframe thead th {\n",
       "        text-align: right;\n",
       "    }\n",
       "</style>\n",
       "<table border=\"1\" class=\"dataframe\">\n",
       "  <thead>\n",
       "    <tr style=\"text-align: right;\">\n",
       "      <th></th>\n",
       "      <th>mean_fit_time</th>\n",
       "      <th>std_fit_time</th>\n",
       "      <th>mean_score_time</th>\n",
       "      <th>std_score_time</th>\n",
       "      <th>param_algorithm</th>\n",
       "      <th>param_algorithm__C</th>\n",
       "      <th>param_algorithm__n_jobs</th>\n",
       "      <th>param_algorithm__penalty</th>\n",
       "      <th>param_algorithm__solver</th>\n",
       "      <th>params</th>\n",
       "      <th>split0_test_score</th>\n",
       "      <th>split1_test_score</th>\n",
       "      <th>split2_test_score</th>\n",
       "      <th>mean_test_score</th>\n",
       "      <th>std_test_score</th>\n",
       "      <th>rank_test_score</th>\n",
       "    </tr>\n",
       "  </thead>\n",
       "  <tbody>\n",
       "    <tr>\n",
       "      <th>17</th>\n",
       "      <td>0.04</td>\n",
       "      <td>0.00</td>\n",
       "      <td>0.00</td>\n",
       "      <td>0.00</td>\n",
       "      <td>LogisticRegression(C=1, n_jobs=-1, penalty='l1...</td>\n",
       "      <td>1</td>\n",
       "      <td>-1</td>\n",
       "      <td>l1</td>\n",
       "      <td>saga</td>\n",
       "      <td>{'algorithm': LogisticRegression(C=1, n_jobs=-...</td>\n",
       "      <td>0.88</td>\n",
       "      <td>0.87</td>\n",
       "      <td>0.89</td>\n",
       "      <td>0.88</td>\n",
       "      <td>0.01</td>\n",
       "      <td>1</td>\n",
       "    </tr>\n",
       "    <tr>\n",
       "      <th>13</th>\n",
       "      <td>0.04</td>\n",
       "      <td>0.00</td>\n",
       "      <td>0.01</td>\n",
       "      <td>0.00</td>\n",
       "      <td>LogisticRegression(C=1, n_jobs=-1, penalty='l1...</td>\n",
       "      <td>0.75</td>\n",
       "      <td>-1</td>\n",
       "      <td>l1</td>\n",
       "      <td>saga</td>\n",
       "      <td>{'algorithm': LogisticRegression(C=1, n_jobs=-...</td>\n",
       "      <td>0.88</td>\n",
       "      <td>0.87</td>\n",
       "      <td>0.89</td>\n",
       "      <td>0.88</td>\n",
       "      <td>0.01</td>\n",
       "      <td>2</td>\n",
       "    </tr>\n",
       "    <tr>\n",
       "      <th>9</th>\n",
       "      <td>0.04</td>\n",
       "      <td>0.00</td>\n",
       "      <td>0.00</td>\n",
       "      <td>0.00</td>\n",
       "      <td>LogisticRegression(C=1, n_jobs=-1, penalty='l1...</td>\n",
       "      <td>0.50</td>\n",
       "      <td>-1</td>\n",
       "      <td>l1</td>\n",
       "      <td>saga</td>\n",
       "      <td>{'algorithm': LogisticRegression(C=1, n_jobs=-...</td>\n",
       "      <td>0.88</td>\n",
       "      <td>0.87</td>\n",
       "      <td>0.89</td>\n",
       "      <td>0.88</td>\n",
       "      <td>0.01</td>\n",
       "      <td>3</td>\n",
       "    </tr>\n",
       "    <tr>\n",
       "      <th>5</th>\n",
       "      <td>0.05</td>\n",
       "      <td>0.00</td>\n",
       "      <td>0.02</td>\n",
       "      <td>0.00</td>\n",
       "      <td>LogisticRegression(C=1, n_jobs=-1, penalty='l1...</td>\n",
       "      <td>0.25</td>\n",
       "      <td>-1</td>\n",
       "      <td>l1</td>\n",
       "      <td>saga</td>\n",
       "      <td>{'algorithm': LogisticRegression(C=1, n_jobs=-...</td>\n",
       "      <td>0.88</td>\n",
       "      <td>0.87</td>\n",
       "      <td>0.89</td>\n",
       "      <td>0.88</td>\n",
       "      <td>0.01</td>\n",
       "      <td>4</td>\n",
       "    </tr>\n",
       "    <tr>\n",
       "      <th>18</th>\n",
       "      <td>0.03</td>\n",
       "      <td>0.00</td>\n",
       "      <td>0.00</td>\n",
       "      <td>0.00</td>\n",
       "      <td>LogisticRegression(C=1, n_jobs=-1, penalty='l1...</td>\n",
       "      <td>1</td>\n",
       "      <td>-1</td>\n",
       "      <td>l2</td>\n",
       "      <td>saga</td>\n",
       "      <td>{'algorithm': LogisticRegression(C=1, n_jobs=-...</td>\n",
       "      <td>0.88</td>\n",
       "      <td>0.86</td>\n",
       "      <td>0.89</td>\n",
       "      <td>0.88</td>\n",
       "      <td>0.01</td>\n",
       "      <td>5</td>\n",
       "    </tr>\n",
       "    <tr>\n",
       "      <th>14</th>\n",
       "      <td>0.03</td>\n",
       "      <td>0.01</td>\n",
       "      <td>0.00</td>\n",
       "      <td>0.00</td>\n",
       "      <td>LogisticRegression(C=1, n_jobs=-1, penalty='l1...</td>\n",
       "      <td>0.75</td>\n",
       "      <td>-1</td>\n",
       "      <td>l2</td>\n",
       "      <td>saga</td>\n",
       "      <td>{'algorithm': LogisticRegression(C=1, n_jobs=-...</td>\n",
       "      <td>0.88</td>\n",
       "      <td>0.86</td>\n",
       "      <td>0.88</td>\n",
       "      <td>0.88</td>\n",
       "      <td>0.01</td>\n",
       "      <td>6</td>\n",
       "    </tr>\n",
       "    <tr>\n",
       "      <th>10</th>\n",
       "      <td>0.03</td>\n",
       "      <td>0.00</td>\n",
       "      <td>0.01</td>\n",
       "      <td>0.00</td>\n",
       "      <td>LogisticRegression(C=1, n_jobs=-1, penalty='l1...</td>\n",
       "      <td>0.50</td>\n",
       "      <td>-1</td>\n",
       "      <td>l2</td>\n",
       "      <td>saga</td>\n",
       "      <td>{'algorithm': LogisticRegression(C=1, n_jobs=-...</td>\n",
       "      <td>0.88</td>\n",
       "      <td>0.86</td>\n",
       "      <td>0.88</td>\n",
       "      <td>0.87</td>\n",
       "      <td>0.01</td>\n",
       "      <td>7</td>\n",
       "    </tr>\n",
       "    <tr>\n",
       "      <th>6</th>\n",
       "      <td>0.03</td>\n",
       "      <td>0.00</td>\n",
       "      <td>0.02</td>\n",
       "      <td>0.00</td>\n",
       "      <td>LogisticRegression(C=1, n_jobs=-1, penalty='l1...</td>\n",
       "      <td>0.25</td>\n",
       "      <td>-1</td>\n",
       "      <td>l2</td>\n",
       "      <td>saga</td>\n",
       "      <td>{'algorithm': LogisticRegression(C=1, n_jobs=-...</td>\n",
       "      <td>0.88</td>\n",
       "      <td>0.86</td>\n",
       "      <td>0.88</td>\n",
       "      <td>0.87</td>\n",
       "      <td>0.01</td>\n",
       "      <td>8</td>\n",
       "    </tr>\n",
       "    <tr>\n",
       "      <th>16</th>\n",
       "      <td>0.01</td>\n",
       "      <td>0.00</td>\n",
       "      <td>0.00</td>\n",
       "      <td>0.00</td>\n",
       "      <td>LogisticRegression(C=1, n_jobs=-1, penalty='l1...</td>\n",
       "      <td>1</td>\n",
       "      <td>-1</td>\n",
       "      <td>elasticnet</td>\n",
       "      <td>saga</td>\n",
       "      <td>{'algorithm': LogisticRegression(C=1, n_jobs=-...</td>\n",
       "      <td>NaN</td>\n",
       "      <td>NaN</td>\n",
       "      <td>NaN</td>\n",
       "      <td>NaN</td>\n",
       "      <td>NaN</td>\n",
       "      <td>9</td>\n",
       "    </tr>\n",
       "    <tr>\n",
       "      <th>15</th>\n",
       "      <td>0.00</td>\n",
       "      <td>0.00</td>\n",
       "      <td>0.00</td>\n",
       "      <td>0.00</td>\n",
       "      <td>LogisticRegression(C=1, n_jobs=-1, penalty='l1...</td>\n",
       "      <td>0.75</td>\n",
       "      <td>-1</td>\n",
       "      <td>None</td>\n",
       "      <td>saga</td>\n",
       "      <td>{'algorithm': LogisticRegression(C=1, n_jobs=-...</td>\n",
       "      <td>NaN</td>\n",
       "      <td>NaN</td>\n",
       "      <td>NaN</td>\n",
       "      <td>NaN</td>\n",
       "      <td>NaN</td>\n",
       "      <td>9</td>\n",
       "    </tr>\n",
       "    <tr>\n",
       "      <th>12</th>\n",
       "      <td>0.01</td>\n",
       "      <td>0.00</td>\n",
       "      <td>0.00</td>\n",
       "      <td>0.00</td>\n",
       "      <td>LogisticRegression(C=1, n_jobs=-1, penalty='l1...</td>\n",
       "      <td>0.75</td>\n",
       "      <td>-1</td>\n",
       "      <td>elasticnet</td>\n",
       "      <td>saga</td>\n",
       "      <td>{'algorithm': LogisticRegression(C=1, n_jobs=-...</td>\n",
       "      <td>NaN</td>\n",
       "      <td>NaN</td>\n",
       "      <td>NaN</td>\n",
       "      <td>NaN</td>\n",
       "      <td>NaN</td>\n",
       "      <td>9</td>\n",
       "    </tr>\n",
       "    <tr>\n",
       "      <th>0</th>\n",
       "      <td>0.00</td>\n",
       "      <td>0.00</td>\n",
       "      <td>0.00</td>\n",
       "      <td>0.00</td>\n",
       "      <td>LogisticRegression(C=1, n_jobs=-1, penalty='l1...</td>\n",
       "      <td>0</td>\n",
       "      <td>-1</td>\n",
       "      <td>elasticnet</td>\n",
       "      <td>saga</td>\n",
       "      <td>{'algorithm': LogisticRegression(C=1, n_jobs=-...</td>\n",
       "      <td>NaN</td>\n",
       "      <td>NaN</td>\n",
       "      <td>NaN</td>\n",
       "      <td>NaN</td>\n",
       "      <td>NaN</td>\n",
       "      <td>9</td>\n",
       "    </tr>\n",
       "    <tr>\n",
       "      <th>8</th>\n",
       "      <td>0.01</td>\n",
       "      <td>0.00</td>\n",
       "      <td>0.00</td>\n",
       "      <td>0.00</td>\n",
       "      <td>LogisticRegression(C=1, n_jobs=-1, penalty='l1...</td>\n",
       "      <td>0.50</td>\n",
       "      <td>-1</td>\n",
       "      <td>elasticnet</td>\n",
       "      <td>saga</td>\n",
       "      <td>{'algorithm': LogisticRegression(C=1, n_jobs=-...</td>\n",
       "      <td>NaN</td>\n",
       "      <td>NaN</td>\n",
       "      <td>NaN</td>\n",
       "      <td>NaN</td>\n",
       "      <td>NaN</td>\n",
       "      <td>9</td>\n",
       "    </tr>\n",
       "    <tr>\n",
       "      <th>7</th>\n",
       "      <td>0.00</td>\n",
       "      <td>0.00</td>\n",
       "      <td>0.00</td>\n",
       "      <td>0.00</td>\n",
       "      <td>LogisticRegression(C=1, n_jobs=-1, penalty='l1...</td>\n",
       "      <td>0.25</td>\n",
       "      <td>-1</td>\n",
       "      <td>None</td>\n",
       "      <td>saga</td>\n",
       "      <td>{'algorithm': LogisticRegression(C=1, n_jobs=-...</td>\n",
       "      <td>NaN</td>\n",
       "      <td>NaN</td>\n",
       "      <td>NaN</td>\n",
       "      <td>NaN</td>\n",
       "      <td>NaN</td>\n",
       "      <td>9</td>\n",
       "    </tr>\n",
       "    <tr>\n",
       "      <th>4</th>\n",
       "      <td>0.02</td>\n",
       "      <td>0.00</td>\n",
       "      <td>0.00</td>\n",
       "      <td>0.00</td>\n",
       "      <td>LogisticRegression(C=1, n_jobs=-1, penalty='l1...</td>\n",
       "      <td>0.25</td>\n",
       "      <td>-1</td>\n",
       "      <td>elasticnet</td>\n",
       "      <td>saga</td>\n",
       "      <td>{'algorithm': LogisticRegression(C=1, n_jobs=-...</td>\n",
       "      <td>NaN</td>\n",
       "      <td>NaN</td>\n",
       "      <td>NaN</td>\n",
       "      <td>NaN</td>\n",
       "      <td>NaN</td>\n",
       "      <td>9</td>\n",
       "    </tr>\n",
       "    <tr>\n",
       "      <th>3</th>\n",
       "      <td>0.00</td>\n",
       "      <td>0.00</td>\n",
       "      <td>0.00</td>\n",
       "      <td>0.00</td>\n",
       "      <td>LogisticRegression(C=1, n_jobs=-1, penalty='l1...</td>\n",
       "      <td>0</td>\n",
       "      <td>-1</td>\n",
       "      <td>None</td>\n",
       "      <td>saga</td>\n",
       "      <td>{'algorithm': LogisticRegression(C=1, n_jobs=-...</td>\n",
       "      <td>NaN</td>\n",
       "      <td>NaN</td>\n",
       "      <td>NaN</td>\n",
       "      <td>NaN</td>\n",
       "      <td>NaN</td>\n",
       "      <td>9</td>\n",
       "    </tr>\n",
       "    <tr>\n",
       "      <th>2</th>\n",
       "      <td>0.00</td>\n",
       "      <td>0.00</td>\n",
       "      <td>0.00</td>\n",
       "      <td>0.00</td>\n",
       "      <td>LogisticRegression(C=1, n_jobs=-1, penalty='l1...</td>\n",
       "      <td>0</td>\n",
       "      <td>-1</td>\n",
       "      <td>l2</td>\n",
       "      <td>saga</td>\n",
       "      <td>{'algorithm': LogisticRegression(C=1, n_jobs=-...</td>\n",
       "      <td>NaN</td>\n",
       "      <td>NaN</td>\n",
       "      <td>NaN</td>\n",
       "      <td>NaN</td>\n",
       "      <td>NaN</td>\n",
       "      <td>9</td>\n",
       "    </tr>\n",
       "    <tr>\n",
       "      <th>1</th>\n",
       "      <td>0.00</td>\n",
       "      <td>0.00</td>\n",
       "      <td>0.00</td>\n",
       "      <td>0.00</td>\n",
       "      <td>LogisticRegression(C=1, n_jobs=-1, penalty='l1...</td>\n",
       "      <td>0</td>\n",
       "      <td>-1</td>\n",
       "      <td>l1</td>\n",
       "      <td>saga</td>\n",
       "      <td>{'algorithm': LogisticRegression(C=1, n_jobs=-...</td>\n",
       "      <td>NaN</td>\n",
       "      <td>NaN</td>\n",
       "      <td>NaN</td>\n",
       "      <td>NaN</td>\n",
       "      <td>NaN</td>\n",
       "      <td>9</td>\n",
       "    </tr>\n",
       "    <tr>\n",
       "      <th>11</th>\n",
       "      <td>0.00</td>\n",
       "      <td>0.00</td>\n",
       "      <td>0.00</td>\n",
       "      <td>0.00</td>\n",
       "      <td>LogisticRegression(C=1, n_jobs=-1, penalty='l1...</td>\n",
       "      <td>0.50</td>\n",
       "      <td>-1</td>\n",
       "      <td>None</td>\n",
       "      <td>saga</td>\n",
       "      <td>{'algorithm': LogisticRegression(C=1, n_jobs=-...</td>\n",
       "      <td>NaN</td>\n",
       "      <td>NaN</td>\n",
       "      <td>NaN</td>\n",
       "      <td>NaN</td>\n",
       "      <td>NaN</td>\n",
       "      <td>9</td>\n",
       "    </tr>\n",
       "    <tr>\n",
       "      <th>19</th>\n",
       "      <td>0.00</td>\n",
       "      <td>0.00</td>\n",
       "      <td>0.00</td>\n",
       "      <td>0.00</td>\n",
       "      <td>LogisticRegression(C=1, n_jobs=-1, penalty='l1...</td>\n",
       "      <td>1</td>\n",
       "      <td>-1</td>\n",
       "      <td>None</td>\n",
       "      <td>saga</td>\n",
       "      <td>{'algorithm': LogisticRegression(C=1, n_jobs=-...</td>\n",
       "      <td>NaN</td>\n",
       "      <td>NaN</td>\n",
       "      <td>NaN</td>\n",
       "      <td>NaN</td>\n",
       "      <td>NaN</td>\n",
       "      <td>9</td>\n",
       "    </tr>\n",
       "  </tbody>\n",
       "</table>\n",
       "</div>"
      ],
      "text/plain": [
       "    mean_fit_time  std_fit_time  mean_score_time  std_score_time  \\\n",
       "17           0.04          0.00             0.00            0.00   \n",
       "13           0.04          0.00             0.01            0.00   \n",
       "9            0.04          0.00             0.00            0.00   \n",
       "5            0.05          0.00             0.02            0.00   \n",
       "18           0.03          0.00             0.00            0.00   \n",
       "14           0.03          0.01             0.00            0.00   \n",
       "10           0.03          0.00             0.01            0.00   \n",
       "6            0.03          0.00             0.02            0.00   \n",
       "16           0.01          0.00             0.00            0.00   \n",
       "15           0.00          0.00             0.00            0.00   \n",
       "12           0.01          0.00             0.00            0.00   \n",
       "0            0.00          0.00             0.00            0.00   \n",
       "8            0.01          0.00             0.00            0.00   \n",
       "7            0.00          0.00             0.00            0.00   \n",
       "4            0.02          0.00             0.00            0.00   \n",
       "3            0.00          0.00             0.00            0.00   \n",
       "2            0.00          0.00             0.00            0.00   \n",
       "1            0.00          0.00             0.00            0.00   \n",
       "11           0.00          0.00             0.00            0.00   \n",
       "19           0.00          0.00             0.00            0.00   \n",
       "\n",
       "                                      param_algorithm param_algorithm__C  \\\n",
       "17  LogisticRegression(C=1, n_jobs=-1, penalty='l1...                  1   \n",
       "13  LogisticRegression(C=1, n_jobs=-1, penalty='l1...               0.75   \n",
       "9   LogisticRegression(C=1, n_jobs=-1, penalty='l1...               0.50   \n",
       "5   LogisticRegression(C=1, n_jobs=-1, penalty='l1...               0.25   \n",
       "18  LogisticRegression(C=1, n_jobs=-1, penalty='l1...                  1   \n",
       "14  LogisticRegression(C=1, n_jobs=-1, penalty='l1...               0.75   \n",
       "10  LogisticRegression(C=1, n_jobs=-1, penalty='l1...               0.50   \n",
       "6   LogisticRegression(C=1, n_jobs=-1, penalty='l1...               0.25   \n",
       "16  LogisticRegression(C=1, n_jobs=-1, penalty='l1...                  1   \n",
       "15  LogisticRegression(C=1, n_jobs=-1, penalty='l1...               0.75   \n",
       "12  LogisticRegression(C=1, n_jobs=-1, penalty='l1...               0.75   \n",
       "0   LogisticRegression(C=1, n_jobs=-1, penalty='l1...                  0   \n",
       "8   LogisticRegression(C=1, n_jobs=-1, penalty='l1...               0.50   \n",
       "7   LogisticRegression(C=1, n_jobs=-1, penalty='l1...               0.25   \n",
       "4   LogisticRegression(C=1, n_jobs=-1, penalty='l1...               0.25   \n",
       "3   LogisticRegression(C=1, n_jobs=-1, penalty='l1...                  0   \n",
       "2   LogisticRegression(C=1, n_jobs=-1, penalty='l1...                  0   \n",
       "1   LogisticRegression(C=1, n_jobs=-1, penalty='l1...                  0   \n",
       "11  LogisticRegression(C=1, n_jobs=-1, penalty='l1...               0.50   \n",
       "19  LogisticRegression(C=1, n_jobs=-1, penalty='l1...                  1   \n",
       "\n",
       "   param_algorithm__n_jobs param_algorithm__penalty param_algorithm__solver  \\\n",
       "17                      -1                       l1                    saga   \n",
       "13                      -1                       l1                    saga   \n",
       "9                       -1                       l1                    saga   \n",
       "5                       -1                       l1                    saga   \n",
       "18                      -1                       l2                    saga   \n",
       "14                      -1                       l2                    saga   \n",
       "10                      -1                       l2                    saga   \n",
       "6                       -1                       l2                    saga   \n",
       "16                      -1               elasticnet                    saga   \n",
       "15                      -1                     None                    saga   \n",
       "12                      -1               elasticnet                    saga   \n",
       "0                       -1               elasticnet                    saga   \n",
       "8                       -1               elasticnet                    saga   \n",
       "7                       -1                     None                    saga   \n",
       "4                       -1               elasticnet                    saga   \n",
       "3                       -1                     None                    saga   \n",
       "2                       -1                       l2                    saga   \n",
       "1                       -1                       l1                    saga   \n",
       "11                      -1                     None                    saga   \n",
       "19                      -1                     None                    saga   \n",
       "\n",
       "                                               params  split0_test_score  \\\n",
       "17  {'algorithm': LogisticRegression(C=1, n_jobs=-...               0.88   \n",
       "13  {'algorithm': LogisticRegression(C=1, n_jobs=-...               0.88   \n",
       "9   {'algorithm': LogisticRegression(C=1, n_jobs=-...               0.88   \n",
       "5   {'algorithm': LogisticRegression(C=1, n_jobs=-...               0.88   \n",
       "18  {'algorithm': LogisticRegression(C=1, n_jobs=-...               0.88   \n",
       "14  {'algorithm': LogisticRegression(C=1, n_jobs=-...               0.88   \n",
       "10  {'algorithm': LogisticRegression(C=1, n_jobs=-...               0.88   \n",
       "6   {'algorithm': LogisticRegression(C=1, n_jobs=-...               0.88   \n",
       "16  {'algorithm': LogisticRegression(C=1, n_jobs=-...                NaN   \n",
       "15  {'algorithm': LogisticRegression(C=1, n_jobs=-...                NaN   \n",
       "12  {'algorithm': LogisticRegression(C=1, n_jobs=-...                NaN   \n",
       "0   {'algorithm': LogisticRegression(C=1, n_jobs=-...                NaN   \n",
       "8   {'algorithm': LogisticRegression(C=1, n_jobs=-...                NaN   \n",
       "7   {'algorithm': LogisticRegression(C=1, n_jobs=-...                NaN   \n",
       "4   {'algorithm': LogisticRegression(C=1, n_jobs=-...                NaN   \n",
       "3   {'algorithm': LogisticRegression(C=1, n_jobs=-...                NaN   \n",
       "2   {'algorithm': LogisticRegression(C=1, n_jobs=-...                NaN   \n",
       "1   {'algorithm': LogisticRegression(C=1, n_jobs=-...                NaN   \n",
       "11  {'algorithm': LogisticRegression(C=1, n_jobs=-...                NaN   \n",
       "19  {'algorithm': LogisticRegression(C=1, n_jobs=-...                NaN   \n",
       "\n",
       "    split1_test_score  split2_test_score  mean_test_score  std_test_score  \\\n",
       "17               0.87               0.89             0.88            0.01   \n",
       "13               0.87               0.89             0.88            0.01   \n",
       "9                0.87               0.89             0.88            0.01   \n",
       "5                0.87               0.89             0.88            0.01   \n",
       "18               0.86               0.89             0.88            0.01   \n",
       "14               0.86               0.88             0.88            0.01   \n",
       "10               0.86               0.88             0.87            0.01   \n",
       "6                0.86               0.88             0.87            0.01   \n",
       "16                NaN                NaN              NaN             NaN   \n",
       "15                NaN                NaN              NaN             NaN   \n",
       "12                NaN                NaN              NaN             NaN   \n",
       "0                 NaN                NaN              NaN             NaN   \n",
       "8                 NaN                NaN              NaN             NaN   \n",
       "7                 NaN                NaN              NaN             NaN   \n",
       "4                 NaN                NaN              NaN             NaN   \n",
       "3                 NaN                NaN              NaN             NaN   \n",
       "2                 NaN                NaN              NaN             NaN   \n",
       "1                 NaN                NaN              NaN             NaN   \n",
       "11                NaN                NaN              NaN             NaN   \n",
       "19                NaN                NaN              NaN             NaN   \n",
       "\n",
       "    rank_test_score  \n",
       "17                1  \n",
       "13                2  \n",
       "9                 3  \n",
       "5                 4  \n",
       "18                5  \n",
       "14                6  \n",
       "10                7  \n",
       "6                 8  \n",
       "16                9  \n",
       "15                9  \n",
       "12                9  \n",
       "0                 9  \n",
       "8                 9  \n",
       "7                 9  \n",
       "4                 9  \n",
       "3                 9  \n",
       "2                 9  \n",
       "1                 9  \n",
       "11                9  \n",
       "19                9  "
      ]
     },
     "execution_count": 21,
     "metadata": {},
     "output_type": "execute_result"
    }
   ],
   "source": [
    "grid_search = GridSearchCV(estimator=pipe,\n",
    "                           param_grid=grid,\n",
    "                           cv=3,\n",
    "                           scoring='roc_auc',\n",
    "                           verbose=0,\n",
    "                           n_jobs=-1)\n",
    "\n",
    "model = grid_search.fit(train_x, train_y)\n",
    "\n",
    "\n",
    "pd.DataFrame(grid_search.cv_results_).sort_values(by='rank_test_score')"
   ]
  },
  {
   "cell_type": "markdown",
   "id": "fd6f59ab",
   "metadata": {},
   "source": [
    "## Evaluate model"
   ]
  },
  {
   "cell_type": "markdown",
   "id": "90ac986a",
   "metadata": {},
   "source": [
    "### Predict upon validation"
   ]
  },
  {
   "cell_type": "code",
   "execution_count": 23,
   "id": "ca079478",
   "metadata": {},
   "outputs": [],
   "source": [
    "pred = model.best_estimator_.predict_proba(val_x)[:, 1]"
   ]
  },
  {
   "cell_type": "markdown",
   "id": "fe9fb9a1",
   "metadata": {},
   "source": [
    "### Evaluate on validation"
   ]
  },
  {
   "cell_type": "code",
   "execution_count": 24,
   "id": "f249d6b8",
   "metadata": {},
   "outputs": [
    {
     "data": {
      "text/plain": [
       "0.8602177198684197"
      ]
     },
     "execution_count": 24,
     "metadata": {},
     "output_type": "execute_result"
    }
   ],
   "source": [
    "roc_auc_score(val_y, pred)"
   ]
  },
  {
   "cell_type": "markdown",
   "id": "87d46a1d",
   "metadata": {},
   "source": [
    "### Browse the best model"
   ]
  },
  {
   "cell_type": "code",
   "execution_count": 26,
   "id": "f32990c1",
   "metadata": {},
   "outputs": [
    {
     "data": {
      "text/plain": [
       "<bound method Pipeline.get_params of Pipeline(steps=[('algorithm',\n",
       "                 LogisticRegression(C=1, n_jobs=-1, penalty='l1',\n",
       "                                    solver='saga'))])>"
      ]
     },
     "execution_count": 26,
     "metadata": {},
     "output_type": "execute_result"
    }
   ],
   "source": [
    "model.best_estimator_.get_params"
   ]
  },
  {
   "cell_type": "code",
   "execution_count": 28,
   "id": "c62de363",
   "metadata": {},
   "outputs": [
    {
     "data": {
      "text/html": [
       "<style>#sk-container-id-1 {color: black;background-color: white;}#sk-container-id-1 pre{padding: 0;}#sk-container-id-1 div.sk-toggleable {background-color: white;}#sk-container-id-1 label.sk-toggleable__label {cursor: pointer;display: block;width: 100%;margin-bottom: 0;padding: 0.3em;box-sizing: border-box;text-align: center;}#sk-container-id-1 label.sk-toggleable__label-arrow:before {content: \"▸\";float: left;margin-right: 0.25em;color: #696969;}#sk-container-id-1 label.sk-toggleable__label-arrow:hover:before {color: black;}#sk-container-id-1 div.sk-estimator:hover label.sk-toggleable__label-arrow:before {color: black;}#sk-container-id-1 div.sk-toggleable__content {max-height: 0;max-width: 0;overflow: hidden;text-align: left;background-color: #f0f8ff;}#sk-container-id-1 div.sk-toggleable__content pre {margin: 0.2em;color: black;border-radius: 0.25em;background-color: #f0f8ff;}#sk-container-id-1 input.sk-toggleable__control:checked~div.sk-toggleable__content {max-height: 200px;max-width: 100%;overflow: auto;}#sk-container-id-1 input.sk-toggleable__control:checked~label.sk-toggleable__label-arrow:before {content: \"▾\";}#sk-container-id-1 div.sk-estimator input.sk-toggleable__control:checked~label.sk-toggleable__label {background-color: #d4ebff;}#sk-container-id-1 div.sk-label input.sk-toggleable__control:checked~label.sk-toggleable__label {background-color: #d4ebff;}#sk-container-id-1 input.sk-hidden--visually {border: 0;clip: rect(1px 1px 1px 1px);clip: rect(1px, 1px, 1px, 1px);height: 1px;margin: -1px;overflow: hidden;padding: 0;position: absolute;width: 1px;}#sk-container-id-1 div.sk-estimator {font-family: monospace;background-color: #f0f8ff;border: 1px dotted black;border-radius: 0.25em;box-sizing: border-box;margin-bottom: 0.5em;}#sk-container-id-1 div.sk-estimator:hover {background-color: #d4ebff;}#sk-container-id-1 div.sk-parallel-item::after {content: \"\";width: 100%;border-bottom: 1px solid gray;flex-grow: 1;}#sk-container-id-1 div.sk-label:hover label.sk-toggleable__label {background-color: #d4ebff;}#sk-container-id-1 div.sk-serial::before {content: \"\";position: absolute;border-left: 1px solid gray;box-sizing: border-box;top: 0;bottom: 0;left: 50%;z-index: 0;}#sk-container-id-1 div.sk-serial {display: flex;flex-direction: column;align-items: center;background-color: white;padding-right: 0.2em;padding-left: 0.2em;position: relative;}#sk-container-id-1 div.sk-item {position: relative;z-index: 1;}#sk-container-id-1 div.sk-parallel {display: flex;align-items: stretch;justify-content: center;background-color: white;position: relative;}#sk-container-id-1 div.sk-item::before, #sk-container-id-1 div.sk-parallel-item::before {content: \"\";position: absolute;border-left: 1px solid gray;box-sizing: border-box;top: 0;bottom: 0;left: 50%;z-index: -1;}#sk-container-id-1 div.sk-parallel-item {display: flex;flex-direction: column;z-index: 1;position: relative;background-color: white;}#sk-container-id-1 div.sk-parallel-item:first-child::after {align-self: flex-end;width: 50%;}#sk-container-id-1 div.sk-parallel-item:last-child::after {align-self: flex-start;width: 50%;}#sk-container-id-1 div.sk-parallel-item:only-child::after {width: 0;}#sk-container-id-1 div.sk-dashed-wrapped {border: 1px dashed gray;margin: 0 0.4em 0.5em 0.4em;box-sizing: border-box;padding-bottom: 0.4em;background-color: white;}#sk-container-id-1 div.sk-label label {font-family: monospace;font-weight: bold;display: inline-block;line-height: 1.2em;}#sk-container-id-1 div.sk-label-container {text-align: center;}#sk-container-id-1 div.sk-container {/* jupyter's `normalize.less` sets `[hidden] { display: none; }` but bootstrap.min.css set `[hidden] { display: none !important; }` so we also need the `!important` here to be able to override the default hidden behavior on the sphinx rendered scikit-learn.org. See: https://github.com/scikit-learn/scikit-learn/issues/21755 */display: inline-block !important;position: relative;}#sk-container-id-1 div.sk-text-repr-fallback {display: none;}</style><div id=\"sk-container-id-1\" class=\"sk-top-container\"><div class=\"sk-text-repr-fallback\"><pre>LogisticRegression(C=1, n_jobs=-1, penalty=&#x27;l1&#x27;, solver=&#x27;saga&#x27;)</pre><b>In a Jupyter environment, please rerun this cell to show the HTML representation or trust the notebook. <br />On GitHub, the HTML representation is unable to render, please try loading this page with nbviewer.org.</b></div><div class=\"sk-container\" hidden><div class=\"sk-item\"><div class=\"sk-estimator sk-toggleable\"><input class=\"sk-toggleable__control sk-hidden--visually\" id=\"sk-estimator-id-1\" type=\"checkbox\" checked><label for=\"sk-estimator-id-1\" class=\"sk-toggleable__label sk-toggleable__label-arrow\">LogisticRegression</label><div class=\"sk-toggleable__content\"><pre>LogisticRegression(C=1, n_jobs=-1, penalty=&#x27;l1&#x27;, solver=&#x27;saga&#x27;)</pre></div></div></div></div></div>"
      ],
      "text/plain": [
       "LogisticRegression(C=1, n_jobs=-1, penalty='l1', solver='saga')"
      ]
     },
     "execution_count": 28,
     "metadata": {},
     "output_type": "execute_result"
    }
   ],
   "source": [
    "model.best_estimator_.named_steps.algorithm"
   ]
  },
  {
   "cell_type": "code",
   "execution_count": 29,
   "id": "7720e54c",
   "metadata": {},
   "outputs": [
    {
     "data": {
      "text/plain": [
       "score_actividad_mms                    0    8.57\n",
       "tiempo_en_site_total_mms               0    4.57\n",
       "origen_Lead Add Form                   0    2.81\n",
       "ocupacion_Working Professional         0    2.24\n",
       "ult_actividad_SMS Sent                 0    1.13\n",
       "score_perfil_mms                       0    1.13\n",
       "descarga_lm_No                         0    0.38\n",
       "ambito_Marketing Management            0    0.18\n",
       "fuente_Organic Search                  0    0.17\n",
       "ambito_OTROS                           0    0.02\n",
       "visitas_total_mms                      0    0.00\n",
       "ambito_Select                          0   -0.43\n",
       "ocupacion_Unemployed                   0   -0.64\n",
       "ult_actividad_Page Visited on Website  0   -0.66\n",
       "ult_actividad_Chat Conversation        0   -1.07\n",
       "ult_actividad_Converted to Lead        0   -1.41\n",
       "dtype: float64"
      ]
     },
     "execution_count": 29,
     "metadata": {},
     "output_type": "execute_result"
    }
   ],
   "source": [
    "pd.DataFrame(\n",
    "    data=model.best_estimator_.named_steps.algorithm.coef_,\n",
    "    columns=model.best_estimator_.named_steps.algorithm.feature_names_in_\n",
    ").unstack().sort_values(ascending=False)"
   ]
  },
  {
   "cell_type": "markdown",
   "id": "f2848960",
   "metadata": {},
   "source": [
    "## MODEL REPORTING"
   ]
  },
  {
   "cell_type": "markdown",
   "id": "e25e2c94",
   "metadata": {},
   "source": [
    "### Gain Chart"
   ]
  },
  {
   "cell_type": "code",
   "execution_count": 32,
   "id": "6e546a6f",
   "metadata": {},
   "outputs": [],
   "source": [
    "lr_sco = model.best_estimator_.predict_proba(val_x)"
   ]
  },
  {
   "cell_type": "code",
   "execution_count": 40,
   "id": "f6391cc4",
   "metadata": {},
   "outputs": [
    {
     "data": {
      "image/png": "[encoded data removed]",
      "text/plain": [
       "<Figure size 640x480 with 1 Axes>"
      ]
     },
     "metadata": {},
     "output_type": "display_data"
    }
   ],
   "source": [
    "fig, ax = plt.subplots()\n",
    "skplt.metrics.plot_cumulative_gain(\n",
    "    val_y,\n",
    "    model.best_estimator_.predict_proba(val_x),\n",
    "    ax=ax\n",
    ")\n",
    "lines = ax.get_lines()\n",
    "for line in lines:\n",
    "    if line.get_label() == 'Class 0':\n",
    "        line.remove()\n",
    "\n",
    "plt.legend(labels=['Model_LR'])\n",
    "plt.show()"
   ]
  },
  {
   "cell_type": "markdown",
   "id": "49752749",
   "metadata": {},
   "source": [
    "If we use the model with the 20% of the main clients (ordered by scoring) we can obtain approximately 40% of the buyers, which means that the model will work a little more than 2 times better than not using it, as we can see in the lift chart chart."
   ]
  },
  {
   "cell_type": "markdown",
   "id": "148a74a7",
   "metadata": {},
   "source": [
    "### Lift Chart"
   ]
  },
  {
   "cell_type": "code",
   "execution_count": 44,
   "id": "5d56a4b8-b118-4f59-87e6-2617b50b8a11",
   "metadata": {},
   "outputs": [
    {
     "data": {
      "image/png": "[encoded data removed]",
      "text/plain": [
       "<Figure size 640x480 with 1 Axes>"
      ]
     },
     "metadata": {},
     "output_type": "display_data"
    }
   ],
   "source": [
    "fig, ax = plt.subplots()\n",
    "\n",
    "skplt.metrics.plot_lift_curve(\n",
    "    val_y,\n",
    "    model.best_estimator_.predict_proba(val_x),\n",
    "    ax=ax\n",
    ") \n",
    "lines = ax.get_lines()\n",
    "for line in lines:\n",
    "    if line.get_label() == 'Class 0':\n",
    "        line.remove()\n",
    "\n",
    "plt.legend(labels=['Model_LR'])\n",
    "plt.show()"
   ]
  },
  {
   "cell_type": "markdown",
   "id": "b0f64e40",
   "metadata": {},
   "source": [
    "### ROC Chart"
   ]
  },
  {
   "cell_type": "code",
   "execution_count": 45,
   "id": "db7b53f4",
   "metadata": {},
   "outputs": [
    {
     "data": {
      "image/png": "[encoded data removed]",
      "text/plain": [
       "<Figure size 640x480 with 1 Axes>"
      ]
     },
     "metadata": {},
     "output_type": "display_data"
    }
   ],
   "source": [
    "fig, ax = plt.subplots()\n",
    "\n",
    "skplt.metrics.plot_roc(val_y, model.best_estimator_.predict_proba(val_x), ax=ax)\n",
    "lines = ax.get_lines()\n",
    "for line in lines:\n",
    "    if 'ROC curve of class 0' in line.get_label():\n",
    "        line.set_label('Model_LR')\n",
    "    elif line.get_linestyle() != '--':\n",
    "        line.set_visible(False)\n",
    "\n",
    "handles, labels = ax.get_legend_handles_labels()\n",
    "new_handles = [h for h, l in zip(handles, labels) if l == 'Model_LR']\n",
    "new_labels = ['Model_LR']\n",
    "\n",
    "ax.legend(new_handles, new_labels, loc='best')\n",
    "\n",
    "plt.show()\n"
   ]
  },
  {
   "cell_type": "markdown",
   "id": "c4788c7d",
   "metadata": {},
   "source": [
    "## Conclusions and next steps"
   ]
  },
  {
   "cell_type": "markdown",
   "id": "a61d157f",
   "metadata": {},
   "source": [
    "The Logistic Regression model has been trained and evaluated, it returned an AUC (Area Under the Curve) of 0.86, which indicates that the model is effective enough for binary classification and distinguishes between potential customers (leads).\n",
    "\n",
    "Finally, in the following [notebook](04_lead_scoring_production_code.ipynb), the retraining and model execution pipeline will be prepared to support the software engineering team in its implementation."
   ]
  }
 ],
 "metadata": {
  "kernelspec": {
   "display_name": "Python 3 (ipykernel)",
   "language": "python",
   "name": "python3"
  },
  "language_info": {
   "codemirror_mode": {
    "name": "ipython",
    "version": 3
   },
   "file_extension": ".py",
   "mimetype": "text/x-python",
   "name": "python",
   "nbconvert_exporter": "python",
   "pygments_lexer": "ipython3",
   "version": "3.11.7"
  },
  "toc": {
   "base_numbering": 1,
   "nav_menu": {},
   "number_sections": true,
   "sideBar": true,
   "skip_h1_title": false,
   "title_cell": "Table of Contents",
   "title_sidebar": "Contents",
   "toc_cell": false,
   "toc_position": {
    "height": "calc(100% - 180px)",
    "left": "10px",
    "top": "150px",
    "width": "253.938px"
   },
   "toc_section_display": true,
   "toc_window_display": false
  },
  "varInspector": {
   "cols": {
    "lenName": 16,
    "lenType": 16,
    "lenVar": 40
   },
   "kernels_config": {
    "python": {
     "delete_cmd_postfix": "",
     "delete_cmd_prefix": "del ",
     "library": "var_list.py",
     "varRefreshCmd": "print(var_dic_list())"
    },
    "r": {
     "delete_cmd_postfix": ") ",
     "delete_cmd_prefix": "rm(",
     "library": "var_list.r",
     "varRefreshCmd": "cat(var_dic_list()) "
    }
   },
   "position": {
    "height": "546.85px",
    "left": "1531.75px",
    "right": "20px",
    "top": "115px",
    "width": "350px"
   },
   "types_to_exclude": [
    "module",
    "function",
    "builtin_function_or_method",
    "instance",
    "_Feature"
   ],
   "window_display": false
  }
 },
 "nbformat": 4,
 "nbformat_minor": 5
}
